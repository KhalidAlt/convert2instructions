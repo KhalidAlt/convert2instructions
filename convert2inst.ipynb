{
 "cells": [
  {
   "cell_type": "code",
   "execution_count": null,
   "id": "d92cfda1",
   "metadata": {},
   "outputs": [],
   "source": [
    "from datasets import load_dataset\n",
    "\n",
    "ds = load_dataset('TurkuNLP/register_oscar','en',cache_dir='/media/khalid/data_disk/cache_dataset/TurkuNLP/')\n",
    "\n"
   ]
  },
  {
   "cell_type": "code",
   "execution_count": null,
   "id": "0489115f",
   "metadata": {},
   "outputs": [],
   "source": [
    "import re\n",
    "from collections import Counter\n",
    "\n",
    "styles = {'NA':'Narrative',\n",
    " 'IN': 'Informational Description',\n",
    " 'OP':'Opinion',\n",
    " 'ID':'Interactive Discussion',\n",
    " 'HI':'Instruction',\n",
    " 'IP':'Informational Persuasion',\n",
    " 'LY':'Lyrical',\n",
    " 'SP':'Spoken',}\n",
    "\n",
    "\n",
    "sub_pro = ['I', 'you', 'they', 'he', 'she', 'it', 'one', 'we', 'you', 'who', 'what', 'well','the', 'is','are' ]\n",
    "\n",
    "for i in ds['train']:\n",
    "    #print(i)\n",
    "    num_sent =  len(re.split(r'[.!?]+', i['text']) )\n",
    "    captial = re.findall(r'\\b[A-Z]\\w*', i['text']) \n",
    "    index = 0\n",
    "    for j in captial:\n",
    "        if j.lower() not in sub_pro or len(j) <1:\n",
    "            captial = j\n",
    "            index = i['text'].index(captial)\n",
    "            break\n",
    "    \n",
    "    captialized_words = re.search(r'\\b[A-Z]\\w*( [A-Z]\\w*)*\\b', i['text'][index:])\n",
    "    #captialized_words = re.findall('([A-Z][a-z]+)', i['text'])\n",
    "    #print(captialized_words)\n",
    "    #print(Counter(captialized_words))\n",
    "    if i['labels']:\n",
    "        style = i[\"labels\"][0]\n",
    "\n",
    "        prompts = f'Write {num_sent} sentences about {captialized_words.group()} in {styles[style] } style.'\n",
    "        print(prompts)\n",
    "\n"
   ]
  }
 ],
 "metadata": {
  "kernelspec": {
   "display_name": "Python 3 (ipykernel)",
   "language": "python",
   "name": "python3"
  },
  "language_info": {
   "codemirror_mode": {
    "name": "ipython",
    "version": 3
   },
   "file_extension": ".py",
   "mimetype": "text/x-python",
   "name": "python",
   "nbconvert_exporter": "python",
   "pygments_lexer": "ipython3",
   "version": "3.8.13"
  }
 },
 "nbformat": 4,
 "nbformat_minor": 5
}
